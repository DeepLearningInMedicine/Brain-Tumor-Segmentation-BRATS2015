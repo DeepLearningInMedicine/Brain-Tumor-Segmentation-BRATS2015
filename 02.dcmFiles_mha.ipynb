{
 "cells": [
  {
   "cell_type": "code",
   "execution_count": 3,
   "metadata": {},
   "outputs": [],
   "source": [
    "# pip install medpy\n",
    "from medpy.io import load\n",
    "from glob import glob"
   ]
  },
  {
   "cell_type": "markdown",
   "metadata": {},
   "source": [
    "## Looking up dicom files"
   ]
  },
  {
   "cell_type": "code",
   "execution_count": 4,
   "metadata": {},
   "outputs": [
    {
     "name": "stdout",
     "output_type": "stream",
     "text": [
      "['/mnt/hgfs/Medical-Data/Brain - TCGA-GBM/DOI/TCGA-02-0003/1.3.6.1.4.1.14519.5.2.1.1706.4001.145725991542758792340793681239/1.3.6.1.4.1.14519.5.2.1.1706.4001.100169298880243060237139829068/000000.dcm', '/mnt/hgfs/Medical-Data/Brain - TCGA-GBM/DOI/TCGA-02-0003/1.3.6.1.4.1.14519.5.2.1.1706.4001.145725991542758792340793681239/1.3.6.1.4.1.14519.5.2.1.1706.4001.100169298880243060237139829068/000001.dcm', '/mnt/hgfs/Medical-Data/Brain - TCGA-GBM/DOI/TCGA-02-0003/1.3.6.1.4.1.14519.5.2.1.1706.4001.145725991542758792340793681239/1.3.6.1.4.1.14519.5.2.1.1706.4001.100169298880243060237139829068/000002.dcm', '/mnt/hgfs/Medical-Data/Brain - TCGA-GBM/DOI/TCGA-02-0003/1.3.6.1.4.1.14519.5.2.1.1706.4001.145725991542758792340793681239/1.3.6.1.4.1.14519.5.2.1.1706.4001.100169298880243060237139829068/000003.dcm', '/mnt/hgfs/Medical-Data/Brain - TCGA-GBM/DOI/TCGA-02-0003/1.3.6.1.4.1.14519.5.2.1.1706.4001.145725991542758792340793681239/1.3.6.1.4.1.14519.5.2.1.1706.4001.100169298880243060237139829068/000004.dcm', '/mnt/hgfs/Medical-Data/Brain - TCGA-GBM/DOI/TCGA-02-0003/1.3.6.1.4.1.14519.5.2.1.1706.4001.145725991542758792340793681239/1.3.6.1.4.1.14519.5.2.1.1706.4001.100169298880243060237139829068/000005.dcm', '/mnt/hgfs/Medical-Data/Brain - TCGA-GBM/DOI/TCGA-02-0003/1.3.6.1.4.1.14519.5.2.1.1706.4001.145725991542758792340793681239/1.3.6.1.4.1.14519.5.2.1.1706.4001.100169298880243060237139829068/000006.dcm', '/mnt/hgfs/Medical-Data/Brain - TCGA-GBM/DOI/TCGA-02-0003/1.3.6.1.4.1.14519.5.2.1.1706.4001.145725991542758792340793681239/1.3.6.1.4.1.14519.5.2.1.1706.4001.100169298880243060237139829068/000007.dcm', '/mnt/hgfs/Medical-Data/Brain - TCGA-GBM/DOI/TCGA-02-0003/1.3.6.1.4.1.14519.5.2.1.1706.4001.145725991542758792340793681239/1.3.6.1.4.1.14519.5.2.1.1706.4001.100169298880243060237139829068/000008.dcm', '/mnt/hgfs/Medical-Data/Brain - TCGA-GBM/DOI/TCGA-02-0003/1.3.6.1.4.1.14519.5.2.1.1706.4001.145725991542758792340793681239/1.3.6.1.4.1.14519.5.2.1.1706.4001.100169298880243060237139829068/000009.dcm', '/mnt/hgfs/Medical-Data/Brain - TCGA-GBM/DOI/TCGA-02-0003/1.3.6.1.4.1.14519.5.2.1.1706.4001.145725991542758792340793681239/1.3.6.1.4.1.14519.5.2.1.1706.4001.100169298880243060237139829068/000010.dcm', '/mnt/hgfs/Medical-Data/Brain - TCGA-GBM/DOI/TCGA-02-0003/1.3.6.1.4.1.14519.5.2.1.1706.4001.145725991542758792340793681239/1.3.6.1.4.1.14519.5.2.1.1706.4001.100169298880243060237139829068/000011.dcm', '/mnt/hgfs/Medical-Data/Brain - TCGA-GBM/DOI/TCGA-02-0003/1.3.6.1.4.1.14519.5.2.1.1706.4001.145725991542758792340793681239/1.3.6.1.4.1.14519.5.2.1.1706.4001.100169298880243060237139829068/000012.dcm', '/mnt/hgfs/Medical-Data/Brain - TCGA-GBM/DOI/TCGA-02-0003/1.3.6.1.4.1.14519.5.2.1.1706.4001.145725991542758792340793681239/1.3.6.1.4.1.14519.5.2.1.1706.4001.100169298880243060237139829068/000013.dcm']\n"
     ]
    }
   ],
   "source": [
    "dcm_path = '/mnt/hgfs/Medical-Data/Brain - TCGA-GBM/DOI/TCGA-02-0003/1.3.6.1.4.1.14519.5.2.1.1706.4001.145725991542758792340793681239/1.3.6.1.4.1.14519.5.2.1.1706.4001.100169298880243060237139829068/'\n",
    "dcm_files = glob('%s*dcm' %(dcm_path))\n",
    "print(dcm_files)"
   ]
  },
  {
   "cell_type": "code",
   "execution_count": 5,
   "metadata": {},
   "outputs": [
    {
     "name": "stdout",
     "output_type": "stream",
     "text": [
      "(128, 128) int16\n",
      "(128, 128) int16\n",
      "(128, 128) int16\n",
      "(128, 128) int16\n",
      "(128, 128) int16\n",
      "(128, 128) int16\n",
      "(128, 128) int16\n",
      "(128, 128) int16\n",
      "(128, 128) int16\n",
      "(128, 128) int16\n",
      "(128, 128) int16\n",
      "(128, 128) int16\n",
      "(128, 128) int16\n",
      "(128, 128) int16\n"
     ]
    }
   ],
   "source": [
    "for a_file in dcm_files:\n",
    "    image_data, image_header = load(a_file)\n",
    "    print(image_data.shape, image_data.dtype)"
   ]
  },
  {
   "cell_type": "markdown",
   "metadata": {},
   "source": [
    "## Save series of dicoms into a mha file"
   ]
  },
  {
   "cell_type": "code",
   "execution_count": 6,
   "metadata": {
    "collapsed": true
   },
   "outputs": [],
   "source": [
    "from __future__ import print_function\n",
    "import SimpleITK as sitk\n",
    "import sys, os"
   ]
  },
  {
   "cell_type": "code",
   "execution_count": 7,
   "metadata": {},
   "outputs": [
    {
     "name": "stdout",
     "output_type": "stream",
     "text": [
      "Reading Dicom directory: /mnt/hgfs/Medical-Data/Brain - TCGA-GBM/DOI/TCGA-02-0003/1.3.6.1.4.1.14519.5.2.1.1706.4001.145725991542758792340793681239/1.3.6.1.4.1.14519.5.2.1.1706.4001.100169298880243060237139829068/\n"
     ]
    }
   ],
   "source": [
    "print( \"Reading Dicom directory:\", dcm_path )"
   ]
  },
  {
   "cell_type": "code",
   "execution_count": 11,
   "metadata": {
    "collapsed": true
   },
   "outputs": [],
   "source": [
    "reader = sitk.ImageSeriesReader()\n",
    "dicom_names = reader.GetGDCMSeriesFileNames(dcm_path)\n",
    "reader.SetFileNames(dicom_names)"
   ]
  },
  {
   "cell_type": "code",
   "execution_count": 12,
   "metadata": {},
   "outputs": [
    {
     "name": "stdout",
     "output_type": "stream",
     "text": [
      "Image size: 128 128 14\n"
     ]
    }
   ],
   "source": [
    "image = reader.Execute()\n",
    "size = image.GetSize()\n",
    "print( \"Image size:\", size[0], size[1], size[2] )"
   ]
  },
  {
   "cell_type": "code",
   "execution_count": 14,
   "metadata": {},
   "outputs": [
    {
     "name": "stdout",
     "output_type": "stream",
     "text": [
      "Writing image: /mnt/hgfs/Medical-Data/Brain - TCGA-GBM/DOI/TCGA-02-0003/1.3.6.1.4.1.14519.5.2.1.1706.4001.145725991542758792340793681239/1.3.6.1.4.1.14519.5.2.1.1706.4001.100169298880243060237139829068/TCGA-02-0003.mha\n"
     ]
    }
   ],
   "source": [
    "mha_name = dcm_path + \"TCGA-02-0003.mha\"\n",
    "print( \"Writing image:\", mha_name )\n"
   ]
  },
  {
   "cell_type": "code",
   "execution_count": 20,
   "metadata": {
    "collapsed": true
   },
   "outputs": [],
   "source": [
    "import skimage.io as io"
   ]
  },
  {
   "cell_type": "code",
   "execution_count": 21,
   "metadata": {
    "collapsed": true
   },
   "outputs": [],
   "source": [
    "def read_image_into_ndArray(imagefile, PlugIn):\n",
    "    imageArray = io.imread(imagefile, plugin=PlugIn)\n",
    "    print(\"The dimension of the image is \", imageArray.shape)\n",
    "    return imageArray"
   ]
  },
  {
   "cell_type": "code",
   "execution_count": 22,
   "metadata": {},
   "outputs": [
    {
     "name": "stdout",
     "output_type": "stream",
     "text": [
      "The dimension of the image is  (14, 128, 128)\n"
     ]
    }
   ],
   "source": [
    "img = read_image_into_ndArray(mha_name, PlugIn='simpleitk')"
   ]
  }
 ],
 "metadata": {
  "anaconda-cloud": {},
  "kernelspec": {
   "display_name": "Python 3",
   "language": "python",
   "name": "python3"
  },
  "language_info": {
   "codemirror_mode": {
    "name": "ipython",
    "version": 3
   },
   "file_extension": ".py",
   "mimetype": "text/x-python",
   "name": "python",
   "nbconvert_exporter": "python",
   "pygments_lexer": "ipython3",
   "version": "3.6.3"
  }
 },
 "nbformat": 4,
 "nbformat_minor": 2
}
