{
 "cells": [
  {
   "cell_type": "code",
   "execution_count": 1,
   "metadata": {
    "collapsed": true
   },
   "outputs": [],
   "source": [
    "from glob import glob\n",
    "import numpy as np\n",
    "import matplotlib.pyplot as plt\n",
    "%matplotlib inline"
   ]
  },
  {
   "cell_type": "code",
   "execution_count": 2,
   "metadata": {
    "collapsed": true
   },
   "outputs": [],
   "source": [
    "import sys\n",
    "sys.path.append(\"./SimpleITK/\")"
   ]
  },
  {
   "cell_type": "code",
   "execution_count": 4,
   "metadata": {
    "collapsed": true
   },
   "outputs": [],
   "source": [
    "import matplotlib.pyplot as plt\n",
    "import SimpleITK as sitk\n",
    "import cv2\n",
    "import numpy as np\n",
    "from glob import glob\n",
    "import skimage.io as io\n",
    "\n",
    "def read_image_into_ndArray(imagefile, PlugIn):\n",
    "    imageArray = io.imread(imagefile, plugin=PlugIn)\n",
    "    print(\"The dimension of the image is \", imageArray.shape)\n",
    "    return imageArray\n",
    "\n",
    "def sitk_tile_vec(lstImgs):\n",
    "    lstImgToCompose = []\n",
    "    for idxComp in range(lstImgs[0].GetNumberOfComponentsPerPixel()):\n",
    "        lstImgToTile = []\n",
    "        for img in lstImgs:\n",
    "            lstImgToTile.append(sitk.VectorIndexSelectionCast(img, idxComp))\n",
    "        lstImgToCompose.append(sitk.Tile(lstImgToTile, (len(lstImgs), 1, 0)))\n",
    "    sitk_show(sitk.Compose(lstImgToCompose))\n",
    "\n",
    "def sitk_show(img, title=None, margin=0.0, dpi=40):\n",
    "    nda = sitk.GetArrayFromImage(img)\n",
    "    #spacing = img.GetSpacing()\n",
    "    figsize = (1 + margin) * nda.shape[0] / dpi, (1 + margin) * nda.shape[1] / dpi\n",
    "    #extent = (0, nda.shape[1]*spacing[1], nda.shape[0]*spacing[0], 0)\n",
    "    extent = (0, nda.shape[1], nda.shape[0], 0)\n",
    "    fig = plt.figure(figsize=figsize, dpi=dpi)\n",
    "    ax = fig.add_axes([margin, margin, 1 - 2*margin, 1 - 2*margin])\n",
    "\n",
    "    plt.set_cmap(\"gray\")\n",
    "    ax.imshow(nda,extent=extent,interpolation=None)\n",
    "    \n",
    "    if title:\n",
    "        plt.title(title)\n",
    "    \n",
    "    plt.show()\n",
    "    \n",
    "def figure_images(imageList, z):    \n",
    "    i = 1\n",
    "    for a_file in imageList:\n",
    "        sliced = sitk.GetArrayViewFromImage(a_file[1])[z,:,:]        \n",
    "        #plt.subplot(round(len(imageList)/3)+1,3, i)\n",
    "        plt.figure()\n",
    "        plt.title(a_file[0])\n",
    "        plt.imshow(sliced, cmap=plt.cm.Greys_r)\n",
    "        plt.axis('off')\n",
    "        i = i+1"
   ]
  },
  {
   "cell_type": "code",
   "execution_count": 5,
   "metadata": {},
   "outputs": [],
   "source": [
    "import SimpleITK as sitk\n",
    "import skimage.io as io"
   ]
  },
  {
   "cell_type": "markdown",
   "metadata": {},
   "source": [
    "## 2D images (jpg, png, etc)"
   ]
  },
  {
   "cell_type": "code",
   "execution_count": 9,
   "metadata": {},
   "outputs": [
    {
     "name": "stdout",
     "output_type": "stream",
     "text": [
      "The dimension of the image is  (417, 428, 3)\n"
     ]
    }
   ],
   "source": [
    "imgfile = \"data/T1.jpg\"\n",
    "img2 = read_image_into_ndArray(imgfile, PlugIn='matplotlib')"
   ]
  },
  {
   "cell_type": "markdown",
   "metadata": {},
   "source": [
    "## ITK metaImage"
   ]
  },
  {
   "cell_type": "code",
   "execution_count": 10,
   "metadata": {},
   "outputs": [
    {
     "name": "stdout",
     "output_type": "stream",
     "text": [
      "The dimension of the image is  (155, 240, 240)\n"
     ]
    }
   ],
   "source": [
    "mhafile = \"data/VSD.Brain.XX.O.MR_Flair.54512.mha\"\n",
    "img = read_image_into_ndArray(mhafile, PlugIn='simpleitk')"
   ]
  },
  {
   "cell_type": "code",
   "execution_count": 11,
   "metadata": {},
   "outputs": [
    {
     "name": "stdout",
     "output_type": "stream",
     "text": [
      "The dimension of the image is  (155, 240, 240)\n"
     ]
    }
   ],
   "source": [
    "mhafile2 = \"data/VSD.Brain.XX.O.MR_T1.54513.mha\"\n",
    "img2 = read_image_into_ndArray(mhafile2, PlugIn='simpleitk')"
   ]
  },
  {
   "cell_type": "markdown",
   "metadata": {},
   "source": [
    "#### Multiple files"
   ]
  },
  {
   "cell_type": "code",
   "execution_count": 12,
   "metadata": {
    "collapsed": true
   },
   "outputs": [],
   "source": [
    "mhafiles = glob('mnt/hgfs/Medical-Data/BRATS-2015/BRATS2015_Training/HGG/*/*/*mha')"
   ]
  },
  {
   "cell_type": "code",
   "execution_count": 13,
   "metadata": {
    "collapsed": true
   },
   "outputs": [],
   "source": [
    "imgList = []\n",
    "for a_file in mhafiles:\n",
    "    filename = a_file.split(\"/\")[-1]\n",
    "    imgInput = sitk.ReadImage(a_file)\n",
    "    nda = sitk.GetArrayViewFromImage(imgInput) # Get a view of the image data as a numpy array, useful for display\n",
    "    img = sitk.GetImageFromArray(nda)\n",
    "    imgList.append((filename, img))\n",
    "    "
   ]
  },
  {
   "cell_type": "code",
   "execution_count": 14,
   "metadata": {
    "collapsed": true
   },
   "outputs": [],
   "source": [
    "figure_images(imgList, 80)"
   ]
  },
  {
   "cell_type": "markdown",
   "metadata": {},
   "source": [
    "### T1 and T2-weighted image"
   ]
  },
  {
   "cell_type": "code",
   "execution_count": 16,
   "metadata": {},
   "outputs": [],
   "source": [
    "from ipywidgets import interact, FloatSlider"
   ]
  },
  {
   "cell_type": "code",
   "execution_count": 17,
   "metadata": {
    "collapsed": true
   },
   "outputs": [],
   "source": [
    "import SimpleITK as sitk\n",
    "import matplotlib.pyplot as plt\n",
    "\n",
    "from ipywidgets import interact, interactive\n",
    "from ipywidgets import widgets\n",
    "\n",
    "def myshow(img, title=[], margin=0.05, dpi=80 ):\n",
    "    nda = sitk.GetArrayViewFromImage(img)\n",
    "\n",
    "    spacing = img.GetSpacing()\n",
    "    slicer = False\n",
    "\n",
    "    if nda.ndim == 3:\n",
    "        # fastest dim, either component or x\n",
    "        c = nda.shape[-1]\n",
    "\n",
    "        # the the number of components is 3 or 4 consider it an RGB image\n",
    "        if not c in (3,4):\n",
    "            slicer = True\n",
    "\n",
    "    elif nda.ndim == 4:\n",
    "        c = nda.shape[-1]\n",
    "\n",
    "        if not c in (3,4):\n",
    "            raise Runtime(\"Unable to show 3D-vector Image\")\n",
    "\n",
    "        # take a z-slice\n",
    "        slicer = True\n",
    "    \n",
    "\n",
    "    if (slicer):\n",
    "        ysize = nda.shape[1]\n",
    "        xsize = nda.shape[2]\n",
    "    else:\n",
    "        ysize = nda.shape[0]\n",
    "        xsize = nda.shape[1]\n",
    "\n",
    "\n",
    "    # Make a figure big enough to accomodate an axis of xpixels by ypixels\n",
    "    # as well as the ticklabels, etc...\n",
    "    figsize = (1 + margin) * ysize / dpi, (1 + margin) * xsize / dpi\n",
    "    def callback(z=None):        \n",
    "\n",
    "        extent = (0, xsize*spacing[1], ysize*spacing[0], 0)\n",
    "\n",
    "        fig = plt.figure(figsize=figsize, dpi=dpi)\n",
    "\n",
    "        # Make the axis the right size...\n",
    "        ax = fig.add_axes([margin, margin, 1 - 2*margin, 1 - 2*margin])\n",
    "\n",
    "        plt.set_cmap(\"gray\")\n",
    "\n",
    "        if z is None:\n",
    "            ax.imshow(nda,extent=extent,interpolation=None)\n",
    "        else:\n",
    "            ax.imshow(nda[z,...],extent=extent,interpolation=None)\n",
    "            if title:\n",
    "                plt.title(title[z])\n",
    "            \n",
    "        plt.show()\n",
    "\n",
    "    if slicer:\n",
    "        if title:\n",
    "            interact(callback, z=(0,nda.shape[0]-1))\n",
    "        else:\n",
    "            interact(callback, z=(0,nda.shape[0]-1))\n",
    "    else:\n",
    "        callback()\n",
    "\n",
    "def myshow3d(img, xslices=[], yslices=[], zslices=[], title=[], margin=0.05, dpi=80):\n",
    "    size = img.GetSize()\n",
    "    img_xslices = [img[s,:,:] for s in xslices]\n",
    "    img_yslices = [img[:,s,:] for s in yslices]\n",
    "    img_zslices = [img[:,:,s] for s in zslices]\n",
    "\n",
    "    maxlen = max(len(img_xslices), len(img_yslices), len(img_zslices))\n",
    "\n",
    "\n",
    "    img_null = sitk.Image([0,0], img.GetPixelID(), img.GetNumberOfComponentsPerPixel())\n",
    "\n",
    "    img_slices = []\n",
    "    d = 0\n",
    "\n",
    "    if len(img_xslices):\n",
    "        img_slices += img_xslices + [img_null]*(maxlen-len(img_xslices))\n",
    "        d += 1\n",
    "\n",
    "    if len(img_yslices):\n",
    "        img_slices += img_yslices + [img_null]*(maxlen-len(img_yslices))\n",
    "        d += 1\n",
    "\n",
    "    if len(img_zslices):\n",
    "        img_slices += img_zslices + [img_null]*(maxlen-len(img_zslices))\n",
    "        d +=1\n",
    "\n",
    "    if maxlen != 0:\n",
    "        if img.GetNumberOfComponentsPerPixel() == 1:\n",
    "            img = sitk.Tile(img_slices, [maxlen,d])\n",
    "        #TODO check in code to get Tile Filter working with VectorImages\n",
    "        else:\n",
    "            img_comps = []\n",
    "            for i in range(0,img.GetNumberOfComponentsPerPixel()):\n",
    "                img_slices_c = [sitk.VectorIndexSelectionCast(s, i) for s in img_slices]\n",
    "                img_comps.append(sitk.Tile(img_slices_c, [maxlen,d]))\n",
    "            img = sitk.Compose(img_comps)\n",
    "    \n",
    "\n",
    "\n",
    "    myshow(img, title, margin, dpi)\n"
   ]
  },
  {
   "cell_type": "code",
   "execution_count": 18,
   "metadata": {},
   "outputs": [
    {
     "data": {
      "application/vnd.jupyter.widget-view+json": {
       "model_id": "e13fadbcf60e489999232490e9f29f40",
       "version_major": 2,
       "version_minor": 0
      },
      "text/plain": [
       "A Jupyter Widget"
      ]
     },
     "metadata": {},
     "output_type": "display_data"
    },
    {
     "data": {
      "application/vnd.jupyter.widget-view+json": {
       "model_id": "8f3cdad3572544689ef126c47db9e18f",
       "version_major": 2,
       "version_minor": 0
      },
      "text/plain": [
       "A Jupyter Widget"
      ]
     },
     "metadata": {},
     "output_type": "display_data"
    }
   ],
   "source": [
    "img_T1 = sitk.ReadImage(\"data/VSD.Brain.XX.O.MR_T1.54513.mha\")\n",
    "img_T2 = sitk.ReadImage(\"data/VSD.Brain.XX.O.MR_T2.54515.mha\")\n",
    "img_FLAIR = sitk.ReadImage(\"data/VSD.Brain.XX.O.MR_Flair.54512.mha\")\n",
    "img_T1c = sitk.ReadImage(\"data/VSD.Brain.XX.O.MR_T1c.54514.mha\")\n",
    "# To visualize the labels image in RGBVSD.Brain.XX.O.MR_Flair.54512.mha with needs a image with 0-255 range\n",
    "img_T1_255 = sitk.Cast(sitk.RescaleIntensity(img_T1), sitk.sitkUInt8)\n",
    "img_T2_255 = sitk.Cast(sitk.RescaleIntensity(img_T2), sitk.sitkUInt8)\n",
    "img_FLAIR_255 = sitk.Cast(sitk.RescaleIntensity(img_FLAIR), sitk.sitkUInt8)\n",
    "img_T1c_255 = sitk.Cast(sitk.RescaleIntensity(img_T1c), sitk.sitkUInt8)\n",
    "myshow3d(img_T1)\n",
    "myshow3d(img_T1_255)"
   ]
  },
  {
   "cell_type": "code",
   "execution_count": 19,
   "metadata": {},
   "outputs": [
    {
     "data": {
      "application/vnd.jupyter.widget-view+json": {
       "model_id": "9e8e260a767c4938aaeba2d6063e3692",
       "version_major": 2,
       "version_minor": 0
      },
      "text/plain": [
       "A Jupyter Widget"
      ]
     },
     "metadata": {},
     "output_type": "display_data"
    }
   ],
   "source": [
    "img_T1 = sitk.ReadImage(\"data/VSD.Brain.XX.O.MR_T1.54513.mha\")\n",
    "img_T2 = sitk.ReadImage(\"data/VSD.Brain.XX.O.MR_T2.54515.mha\")\n",
    "img_FLAIR = sitk.ReadImage(\"data/VSD.Brain.XX.O.MR_Flair.54512.mha\")\n",
    "img_T1c = sitk.ReadImage(\"data/VSD.Brain.XX.O.MR_T1c.54514.mha\")\n",
    "\n",
    "\n",
    "    # 모델을 생성한다.\n",
    "img_T1_Slice = img_T1[:,:,77]\n",
    "img_T1c_Slice = img_T1c[:,:,77]\n",
    "img_T2_Slice = img_T2[:,:,77]\n",
    "img_FLAIR_Slice = img_FLAIR[:,:,77]\n",
    "#imgVolume = sitk.JoinSeries(img_T1_Slice, img_T1c_Slice, img_T2_Slice, img_FLAIR_Slice)\n",
    "imgVolume = sitk.JoinSeries([img_T1_Slice, img_T1c_Slice, img_T2_Slice, img_FLAIR_Slice])\n",
    "width = imgVolume.GetWidth()\n",
    "height = imgVolume.GetHeight()\n",
    "depth = imgVolume.GetDepth()\n",
    "myshow3d(imgVolume, title=['T1', 'T1c', 'T2', 'FLAIR'])"
   ]
  },
  {
   "cell_type": "code",
   "execution_count": 20,
   "metadata": {},
   "outputs": [
    {
     "data": {
      "application/vnd.jupyter.widget-view+json": {
       "model_id": "9e8c13c0f667496cbcd410141450e483",
       "version_major": 2,
       "version_minor": 0
      },
      "text/plain": [
       "A Jupyter Widget"
      ]
     },
     "metadata": {},
     "output_type": "display_data"
    }
   ],
   "source": [
    "Batch_dir = \"data/brats_2013_pat0014_1\"\n",
    "File_type = \"mha\"\n",
    "Modality = ['T1.', 'T1c.', 'T2.', 'Flair.']\n",
    "img_dir = []\n",
    "for modal in Modality:\n",
    "    img_dir = img_dir + glob(\"%s/*%s*/*%s\" %(Batch_dir, modal, File_type))\n",
    "Slice_num = 77\n",
    "imgList = []\n",
    "imgSliceList = []\n",
    "for imgFile in img_dir:\n",
    "    img = sitk.ReadImage(imgFile)\n",
    "    imgList.append(img)\n",
    "    imgSliceList.append(img[:,:,Slice_num])\n",
    "imgVolume = sitk.JoinSeries(imgSliceList)\n",
    "myshow3d(imgVolume, title=Modality)"
   ]
  },
  {
   "cell_type": "markdown",
   "metadata": {},
   "source": [
    "## Synchronized Multi-modal images"
   ]
  },
  {
   "cell_type": "code",
   "execution_count": 21,
   "metadata": {
    "collapsed": true
   },
   "outputs": [],
   "source": [
    "img_T1 = sitk.ReadImage(\"data/VSD.Brain.XX.O.MR_T1.54513.mha\")\n",
    "img_T2 = sitk.ReadImage(\"data/VSD.Brain.XX.O.MR_T2.54515.mha\")\n",
    "img_FLAIR = sitk.ReadImage(\"data/VSD.Brain.XX.O.MR_Flair.54512.mha\")\n",
    "img_T1c = sitk.ReadImage(\"data/VSD.Brain.XX.O.MR_T1c.54514.mha\")\n",
    "img_GT = sitk.ReadImage(\"data/VSD.Brain_3more.XX.O.OT.54517.mha\")"
   ]
  },
  {
   "cell_type": "code",
   "execution_count": 22,
   "metadata": {},
   "outputs": [
    {
     "name": "stdout",
     "output_type": "stream",
     "text": [
      "(12.6, 12.6)\n",
      "(155, 240, 240)\n"
     ]
    }
   ],
   "source": [
    "nda1 = sitk.GetArrayViewFromImage(img_T1)\n",
    "nda2 = sitk.GetArrayViewFromImage(img_T2)\n",
    "nda3 = sitk.GetArrayViewFromImage(img_T1c)\n",
    "nda4 = sitk.GetArrayViewFromImage(img_FLAIR)\n",
    "nda5 = sitk.GetArrayViewFromImage(img_GT)\n",
    "spacing = img_T1.GetSpacing()\n",
    "slicer = False\n",
    "title = []\n",
    "ysize= nda1.shape[1]\n",
    "xsize= nda1.shape[2]\n",
    "margin=0.05\n",
    "dpi=80\n",
    "figsize = 4*(1 + margin) * ysize / dpi, 4*(1 + margin) *xsize / dpi\n",
    "print(figsize)\n",
    "print(nda1.shape)"
   ]
  },
  {
   "cell_type": "code",
   "execution_count": 23,
   "metadata": {
    "collapsed": true
   },
   "outputs": [],
   "source": [
    "def callback(z=None):        \n",
    "\n",
    "    extent = (0, xsize*spacing[1], ysize*spacing[0], 0)\n",
    "    fig = plt.figure(figsize=figsize, dpi=dpi)      \n",
    "    plt.subplot(151)\n",
    "    plt.title(\"T1\")\n",
    "    plt.set_cmap(\"gray\")\n",
    "    plt.imshow(nda1[z,...],extent=extent,interpolation=None)    \n",
    "    plt.subplot(152)\n",
    "    plt.title(\"T2\")\n",
    "    plt.set_cmap(\"gray\")\n",
    "    plt.imshow(nda2[z,...],extent=extent,interpolation=None)\n",
    "    plt.subplot(153)\n",
    "    plt.title(\"T1c\")\n",
    "    plt.set_cmap(\"gray\")\n",
    "    plt.imshow(nda3[z,...],extent=extent,interpolation=None)\n",
    "    plt.subplot(154)\n",
    "    plt.title(\"FLAIR\")\n",
    "    plt.set_cmap(\"gray\")\n",
    "    plt.imshow(nda4[z,...],extent=extent,interpolation=None)\n",
    "    plt.subplot(155)\n",
    "    plt.title(\"Ground Truth\")\n",
    "    plt.set_cmap(\"gray\")\n",
    "    plt.imshow(nda5[z,...],extent=extent,interpolation=None)\n",
    "    \n",
    "       \n",
    "    plt.show()"
   ]
  },
  {
   "cell_type": "code",
   "execution_count": 24,
   "metadata": {},
   "outputs": [
    {
     "data": {
      "application/vnd.jupyter.widget-view+json": {
       "model_id": "223957da146b4508bac72f389a119c04",
       "version_major": 2,
       "version_minor": 0
      },
      "text/plain": [
       "A Jupyter Widget"
      ]
     },
     "metadata": {},
     "output_type": "display_data"
    },
    {
     "data": {
      "text/plain": [
       "<function __main__.callback>"
      ]
     },
     "execution_count": 24,
     "metadata": {},
     "output_type": "execute_result"
    }
   ],
   "source": [
    "interact(callback, z=(0,nda1.shape[0]-1))"
   ]
  },
  {
   "cell_type": "code",
   "execution_count": null,
   "metadata": {
    "collapsed": true
   },
   "outputs": [],
   "source": []
  }
 ],
 "metadata": {
  "anaconda-cloud": {},
  "kernelspec": {
   "display_name": "Python 3",
   "language": "python",
   "name": "python3"
  },
  "language_info": {
   "codemirror_mode": {
    "name": "ipython",
    "version": 3
   },
   "file_extension": ".py",
   "mimetype": "text/x-python",
   "name": "python",
   "nbconvert_exporter": "python",
   "pygments_lexer": "ipython3",
   "version": "3.6.3"
  }
 },
 "nbformat": 4,
 "nbformat_minor": 2
}
