{
 "cells": [
  {
   "cell_type": "code",
   "execution_count": 1,
   "metadata": {
    "collapsed": true
   },
   "outputs": [],
   "source": [
    "from glob import glob\n",
    "%matplotlib inline\n",
    "import matplotlib.pyplot as plt"
   ]
  },
  {
   "cell_type": "code",
   "execution_count": 2,
   "metadata": {
    "collapsed": true
   },
   "outputs": [],
   "source": [
    "import cv2\n",
    "import numpy as np\n",
    "import dicom as pdicom\n",
    "import os, sys\n",
    "import subprocess as sp"
   ]
  },
  {
   "cell_type": "code",
   "execution_count": 3,
   "metadata": {
    "collapsed": true
   },
   "outputs": [],
   "source": [
    "import SimpleITK as sitk\n",
    "import skimage.io as io"
   ]
  },
  {
   "cell_type": "code",
   "execution_count": 4,
   "metadata": {
    "collapsed": true
   },
   "outputs": [],
   "source": [
    "homeDir = \"/mnt/hgfs/Medical-Data/BRATS-2015/BRATS2015_Training/HGG/\"\n",
    "requestedPath = os.path.join(homeDir, 'brats_2013_pat0010_1')\n",
    "mydatadir = os.path.realpath(requestedPath)\n",
    "if not os.path.exists(mydatadir):\n",
    "    print(\"The path %s does not exist\" %(mydatadir))"
   ]
  },
  {
   "cell_type": "code",
   "execution_count": 5,
   "metadata": {
    "collapsed": true
   },
   "outputs": [],
   "source": [
    "MyFileURLs = {\"T1\": os.path.join(mydatadir, 'VSD.Brain.XX.O.MR_T1.54567/VSD.Brain.XX.O.MR_T1.54567.mha'), \n",
    "              \"T2\": os.path.join(mydatadir, 'VSD.Brain.XX.O.MR_T2.54569/VSD.Brain.XX.O.MR_T2.54569.mha'), \n",
    "              \"FLAIR\":os.path.join(mydatadir, 'VSD.Brain.XX.O.MR_Flair.54566/VSD.Brain.XX.O.MR_Flair.54566.mha'), \n",
    "              \"T1c\": os.path.join(mydatadir, 'VSD.Brain.XX.O.MR_T1c.54568/VSD.Brain.XX.O.MR_T1c.54568.mha')}"
   ]
  },
  {
   "cell_type": "code",
   "execution_count": 6,
   "metadata": {
    "collapsed": true
   },
   "outputs": [],
   "source": [
    "img_T1 = sitk.ReadImage(MyFileURLs[\"T1\"])\n",
    "img_T2 = sitk.ReadImage(MyFileURLs[\"T2\"])\n",
    "img_FLAIR = sitk.ReadImage(MyFileURLs[\"FLAIR\"])\n",
    "img_T1c = sitk.ReadImage(MyFileURLs[\"T1c\"])"
   ]
  },
  {
   "cell_type": "markdown",
   "metadata": {},
   "source": [
    "## Image Smoothing/Denoising"
   ]
  },
  {
   "cell_type": "code",
   "execution_count": 7,
   "metadata": {
    "collapsed": true
   },
   "outputs": [],
   "source": [
    "img_T1_Smooth = sitk.CurvatureFlow(image1=img_T1, timeStep=0.125, numberOfIterations=5)\n",
    "img_T2_Smooth = sitk.CurvatureFlow(image1=img_T2, timeStep=0.125,  numberOfIterations=5)\n",
    "img_T1c_Smooth = sitk.CurvatureFlow(image1=img_T1c, timeStep=0.125, numberOfIterations=5)\n",
    "img_FLAIR_Smooth = sitk.CurvatureFlow(image1=img_FLAIR, timeStep=0.125, numberOfIterations=5)"
   ]
  },
  {
   "cell_type": "markdown",
   "metadata": {},
   "source": [
    "## Intensity Rescale"
   ]
  },
  {
   "cell_type": "markdown",
   "metadata": {},
   "source": [
    "## Seed"
   ]
  },
  {
   "cell_type": "code",
   "execution_count": 8,
   "metadata": {
    "collapsed": true
   },
   "outputs": [],
   "source": [
    "# Slice index to visualize with 'sitk_show'\n",
    "idxSlice = 77\n",
    "\n",
    "# int label to assign to the segmented gray matter\n",
    "labelGrayMatter = 1\n",
    "\n",
    "lstSeeds = [(165, 178, idxSlice), (98, 165, idxSlice), (205, 125, idxSlice), (173, 205, idxSlice)]"
   ]
  },
  {
   "cell_type": "code",
   "execution_count": 9,
   "metadata": {
    "collapsed": true
   },
   "outputs": [],
   "source": [
    "# To visualize the labels image in RGB with needs a image with 0-255 range\n",
    "img_T1_255 = sitk.Cast(sitk.RescaleIntensity(img_T1_Smooth), sitk.sitkUInt8)\n",
    "img_T2_255 = sitk.Cast(sitk.RescaleIntensity(img_T2_Smooth), sitk.sitkUInt8)\n",
    "img_FLAIR_255 = sitk.Cast(sitk.RescaleIntensity(img_FLAIR_Smooth), sitk.sitkUInt8)\n",
    "img_T1c_255 = sitk.Cast(sitk.RescaleIntensity(img_T1c_Smooth), sitk.sitkUInt8)"
   ]
  },
  {
   "cell_type": "code",
   "execution_count": 10,
   "metadata": {
    "collapsed": true
   },
   "outputs": [],
   "source": [
    "imgGrayMatterT1 = sitk.ConfidenceConnected(image1=img_T1_Smooth, seedList=lstSeeds,\n",
    "                                                numberOfIterations=3,multiplier=1, replaceValue=labelGrayMatter)\n",
    "imgT1SmoothInt = sitk.Cast(sitk.RescaleIntensity(img_T1_Smooth), imgGrayMatterT1.GetPixelID())\n",
    "imgGrayMatterT2 = sitk.ConfidenceConnected(image1=img_T2_Smooth, seedList=lstSeeds,\n",
    "                                                numberOfIterations=3,multiplier=1, replaceValue=labelGrayMatter)\n",
    "imgT2SmoothInt = sitk.Cast(sitk.RescaleIntensity(img_T2_Smooth), imgGrayMatterT2.GetPixelID())"
   ]
  },
  {
   "cell_type": "markdown",
   "metadata": {},
   "source": [
    "## Intensity Non-uniformity Correction"
   ]
  },
  {
   "cell_type": "markdown",
   "metadata": {},
   "source": [
    "## Image Registration using ANTs"
   ]
  },
  {
   "cell_type": "code",
   "execution_count": 11,
   "metadata": {},
   "outputs": [
    {
     "name": "stderr",
     "output_type": "stream",
     "text": [
      "/home/sara/anaconda3/lib/python3.6/site-packages/h5py/__init__.py:34: FutureWarning: Conversion of the second argument of issubdtype from `float` to `np.floating` is deprecated. In future, it will be treated as `np.float64 == np.dtype(float).type`.\n",
      "  from ._conv import register_converters as _register_converters\n"
     ]
    }
   ],
   "source": [
    "from __future__ import print_function, unicode_literals\n",
    "from builtins import open\n",
    "from future import standard_library\n",
    "standard_library.install_aliases()\n",
    "import urllib.request\n",
    "import urllib.error\n",
    "import urllib.parse\n",
    "from nipype.interfaces.ants import Registration"
   ]
  },
  {
   "cell_type": "code",
   "execution_count": 12,
   "metadata": {
    "collapsed": true
   },
   "outputs": [],
   "source": [
    "def applying_N3(inputList):\n",
    "    output_dir = \"data/N3_output/\"\n",
    "    command = \"data/itkN3 %s %s\" %(inputList, output_dir)\n",
    "    sp.call(cmd)"
   ]
  },
  {
   "cell_type": "code",
   "execution_count": null,
   "metadata": {},
   "outputs": [],
   "source": []
  },
  {
   "cell_type": "code",
   "execution_count": 13,
   "metadata": {
    "collapsed": true
   },
   "outputs": [],
   "source": [
    "reg = Registration()\n",
    "reg.inputs.fixed_image = MyFileURLs[\"T1c\"]\n",
    "reg.inputs.moving_image = MyFileURLs[\"FLAIR\"]\n",
    "reg.inputs.output_transform_prefix = 'thisTransform'\n",
    "reg.inputs.output_warped_image = 'INTERNAL_WARPED.nii.gz'\n",
    "reg.inputs.output_transform_prefix = \"output_\"\n",
    "reg.inputs.transforms = ['Translation', 'Rigid', 'Affine', 'SyN']\n",
    "reg.inputs.transform_parameters = [(0.1,), (0.1,), (0.1,), (0.2, 3.0, 0.0)]\n",
    "reg.inputs.number_of_iterations = ([[10000, 111110, 11110]] * 3 +\n",
    "                                   [[100, 50, 30]])\n",
    "reg.inputs.dimension = 3\n",
    "reg.inputs.write_composite_transform = True\n",
    "reg.inputs.collapse_output_transforms = False\n",
    "reg.inputs.metric = ['Mattes'] * 3 + [['Mattes', 'CC']]\n",
    "reg.inputs.metric_weight = [1] * 3 + [[0.5, 0.5]]\n",
    "reg.inputs.radius_or_number_of_bins = [32] * 3 + [[32, 4]]\n",
    "reg.inputs.sampling_strategy = ['Regular'] * 3 + [[None, None]]\n",
    "reg.inputs.sampling_percentage = [0.3] * 3 + [[None, None]]\n",
    "reg.inputs.convergence_threshold = [1.e-8] * 3 + [-0.01]\n",
    "reg.inputs.convergence_window_size = [20] * 3 + [5]\n",
    "reg.inputs.smoothing_sigmas = [[4, 2, 1]] * 3 + [[1, 0.5, 0]]\n",
    "reg.inputs.sigma_units = ['vox'] * 4\n",
    "reg.inputs.shrink_factors = [[6, 4, 2]] + [[3, 2, 1]] * 2 + [[4, 2, 1]]\n",
    "reg.inputs.use_estimate_learning_rate_once = [True] * 4\n",
    "reg.inputs.use_histogram_matching = [False] * 3 + [True]\n",
    "reg.inputs.initial_moving_transform_com = True\n"
   ]
  },
  {
   "cell_type": "code",
   "execution_count": 14,
   "metadata": {},
   "outputs": [
    {
     "data": {
      "text/plain": [
       "CompletedProcess(args='antsRegistration --collapse-output-transforms 0 --dimensionality 3 --initial-moving-transform [ /mnt/hgfs/Medical-Data/BRATS-2015/BRATS2015_Training/HGG/brats_2013_pat0010_1/VSD.Brain.XX.O.MR_T1c.54568/VSD.Brain.XX.O.MR_T1c.54568.mha, /mnt/hgfs/Medical-Data/BRATS-2015/BRATS2015_Training/HGG/brats_2013_pat0010_1/VSD.Brain.XX.O.MR_Flair.54566/VSD.Brain.XX.O.MR_Flair.54566.mha, 1 ] --initialize-transforms-per-stage 0 --interpolation Linear --output [ output_, INTERNAL_WARPED.nii.gz ] --transform Translation[ 0.1 ] --metric Mattes[ /mnt/hgfs/Medical-Data/BRATS-2015/BRATS2015_Training/HGG/brats_2013_pat0010_1/VSD.Brain.XX.O.MR_T1c.54568/VSD.Brain.XX.O.MR_T1c.54568.mha, /mnt/hgfs/Medical-Data/BRATS-2015/BRATS2015_Training/HGG/brats_2013_pat0010_1/VSD.Brain.XX.O.MR_Flair.54566/VSD.Brain.XX.O.MR_Flair.54566.mha, 1, 32, Regular, 0.3 ] --convergence [ 10000x111110x11110, 1e-08, 20 ] --smoothing-sigmas 4.0x2.0x1.0vox --shrink-factors 6x4x2 --use-estimate-learning-rate-once 1 --use-histogram-matching 0 --transform Rigid[ 0.1 ] --metric Mattes[ /mnt/hgfs/Medical-Data/BRATS-2015/BRATS2015_Training/HGG/brats_2013_pat0010_1/VSD.Brain.XX.O.MR_T1c.54568/VSD.Brain.XX.O.MR_T1c.54568.mha, /mnt/hgfs/Medical-Data/BRATS-2015/BRATS2015_Training/HGG/brats_2013_pat0010_1/VSD.Brain.XX.O.MR_Flair.54566/VSD.Brain.XX.O.MR_Flair.54566.mha, 1, 32, Regular, 0.3 ] --convergence [ 10000x111110x11110, 1e-08, 20 ] --smoothing-sigmas 4.0x2.0x1.0vox --shrink-factors 3x2x1 --use-estimate-learning-rate-once 1 --use-histogram-matching 0 --transform Affine[ 0.1 ] --metric Mattes[ /mnt/hgfs/Medical-Data/BRATS-2015/BRATS2015_Training/HGG/brats_2013_pat0010_1/VSD.Brain.XX.O.MR_T1c.54568/VSD.Brain.XX.O.MR_T1c.54568.mha, /mnt/hgfs/Medical-Data/BRATS-2015/BRATS2015_Training/HGG/brats_2013_pat0010_1/VSD.Brain.XX.O.MR_Flair.54566/VSD.Brain.XX.O.MR_Flair.54566.mha, 1, 32, Regular, 0.3 ] --convergence [ 10000x111110x11110, 1e-08, 20 ] --smoothing-sigmas 4.0x2.0x1.0vox --shrink-factors 3x2x1 --use-estimate-learning-rate-once 1 --use-histogram-matching 0 --transform SyN[ 0.2, 3.0, 0.0 ] --metric Mattes[ /mnt/hgfs/Medical-Data/BRATS-2015/BRATS2015_Training/HGG/brats_2013_pat0010_1/VSD.Brain.XX.O.MR_T1c.54568/VSD.Brain.XX.O.MR_T1c.54568.mha, /mnt/hgfs/Medical-Data/BRATS-2015/BRATS2015_Training/HGG/brats_2013_pat0010_1/VSD.Brain.XX.O.MR_Flair.54566/VSD.Brain.XX.O.MR_Flair.54566.mha, 0.5, 32 ] --metric CC[ /mnt/hgfs/Medical-Data/BRATS-2015/BRATS2015_Training/HGG/brats_2013_pat0010_1/VSD.Brain.XX.O.MR_T1c.54568/VSD.Brain.XX.O.MR_T1c.54568.mha, /mnt/hgfs/Medical-Data/BRATS-2015/BRATS2015_Training/HGG/brats_2013_pat0010_1/VSD.Brain.XX.O.MR_Flair.54566/VSD.Brain.XX.O.MR_Flair.54566.mha, 0.5, 4 ] --convergence [ 100x50x30, -0.01, 5 ] --smoothing-sigmas 1.0x0.5x0.0vox --shrink-factors 4x2x1 --use-estimate-learning-rate-once 1 --use-histogram-matching 1 --winsorize-image-intensities [ 0.0, 1.0 ]  --write-composite-transform 1', returncode=127, stdout=b'')"
      ]
     },
     "execution_count": 14,
     "metadata": {},
     "output_type": "execute_result"
    }
   ],
   "source": [
    "sp.run(reg.cmdline, shell=True, stdout=sp.PIPE)"
   ]
  },
  {
   "cell_type": "code",
   "execution_count": 23,
   "metadata": {},
   "outputs": [
    {
     "ename": "OSError",
     "evalue": "No command \"antsRegistration\" found on host sara. Please check that the corresponding package is installed.",
     "output_type": "error",
     "traceback": [
      "\u001b[0;31m---------------------------------------------------------------------------\u001b[0m",
      "\u001b[0;31mOSError\u001b[0m                                   Traceback (most recent call last)",
      "\u001b[0;32m<ipython-input-23-af9fd36ea876>\u001b[0m in \u001b[0;36m<module>\u001b[0;34m()\u001b[0m\n\u001b[0;32m----> 1\u001b[0;31m \u001b[0mreg\u001b[0m\u001b[0;34m.\u001b[0m\u001b[0mrun\u001b[0m\u001b[0;34m(\u001b[0m\u001b[0;34m)\u001b[0m\u001b[0;34m\u001b[0m\u001b[0m\n\u001b[0m",
      "\u001b[0;32m~/anaconda3/lib/python3.6/site-packages/nipype/interfaces/base/core.py\u001b[0m in \u001b[0;36mrun\u001b[0;34m(self, cwd, **inputs)\u001b[0m\n\u001b[1;32m    513\u001b[0m \u001b[0;34m\u001b[0m\u001b[0m\n\u001b[1;32m    514\u001b[0m         \u001b[0;32mtry\u001b[0m\u001b[0;34m:\u001b[0m\u001b[0;34m\u001b[0m\u001b[0m\n\u001b[0;32m--> 515\u001b[0;31m             \u001b[0mruntime\u001b[0m \u001b[0;34m=\u001b[0m \u001b[0mself\u001b[0m\u001b[0;34m.\u001b[0m\u001b[0m_run_interface\u001b[0m\u001b[0;34m(\u001b[0m\u001b[0mruntime\u001b[0m\u001b[0;34m)\u001b[0m\u001b[0;34m\u001b[0m\u001b[0m\n\u001b[0m\u001b[1;32m    516\u001b[0m             \u001b[0moutputs\u001b[0m \u001b[0;34m=\u001b[0m \u001b[0mself\u001b[0m\u001b[0;34m.\u001b[0m\u001b[0maggregate_outputs\u001b[0m\u001b[0;34m(\u001b[0m\u001b[0mruntime\u001b[0m\u001b[0;34m)\u001b[0m\u001b[0;34m\u001b[0m\u001b[0m\n\u001b[1;32m    517\u001b[0m         \u001b[0;32mexcept\u001b[0m \u001b[0mException\u001b[0m \u001b[0;32mas\u001b[0m \u001b[0me\u001b[0m\u001b[0;34m:\u001b[0m\u001b[0;34m\u001b[0m\u001b[0m\n",
      "\u001b[0;32m~/anaconda3/lib/python3.6/site-packages/nipype/interfaces/ants/registration.py\u001b[0m in \u001b[0;36m_run_interface\u001b[0;34m(self, runtime, correct_return_codes)\u001b[0m\n\u001b[1;32m    946\u001b[0m \u001b[0;34m\u001b[0m\u001b[0m\n\u001b[1;32m    947\u001b[0m     \u001b[0;32mdef\u001b[0m \u001b[0m_run_interface\u001b[0m\u001b[0;34m(\u001b[0m\u001b[0mself\u001b[0m\u001b[0;34m,\u001b[0m \u001b[0mruntime\u001b[0m\u001b[0;34m,\u001b[0m \u001b[0mcorrect_return_codes\u001b[0m\u001b[0;34m=\u001b[0m\u001b[0;34m(\u001b[0m\u001b[0;36m0\u001b[0m\u001b[0;34m,\u001b[0m \u001b[0;34m)\u001b[0m\u001b[0;34m)\u001b[0m\u001b[0;34m:\u001b[0m\u001b[0;34m\u001b[0m\u001b[0m\n\u001b[0;32m--> 948\u001b[0;31m         \u001b[0mruntime\u001b[0m \u001b[0;34m=\u001b[0m \u001b[0msuper\u001b[0m\u001b[0;34m(\u001b[0m\u001b[0mRegistration\u001b[0m\u001b[0;34m,\u001b[0m \u001b[0mself\u001b[0m\u001b[0;34m)\u001b[0m\u001b[0;34m.\u001b[0m\u001b[0m_run_interface\u001b[0m\u001b[0;34m(\u001b[0m\u001b[0mruntime\u001b[0m\u001b[0;34m)\u001b[0m\u001b[0;34m\u001b[0m\u001b[0m\n\u001b[0m\u001b[1;32m    949\u001b[0m \u001b[0;34m\u001b[0m\u001b[0m\n\u001b[1;32m    950\u001b[0m         \u001b[0;31m# Parse some profiling info\u001b[0m\u001b[0;34m\u001b[0m\u001b[0;34m\u001b[0m\u001b[0m\n",
      "\u001b[0;32m~/anaconda3/lib/python3.6/site-packages/nipype/interfaces/base/core.py\u001b[0m in \u001b[0;36m_run_interface\u001b[0;34m(self, runtime, correct_return_codes)\u001b[0m\n\u001b[1;32m   1011\u001b[0m                 \u001b[0;34m'No command \"%s\" found on host %s. Please check that the '\u001b[0m\u001b[0;34m\u001b[0m\u001b[0m\n\u001b[1;32m   1012\u001b[0m                 'corresponding package is installed.' % (executable_name,\n\u001b[0;32m-> 1013\u001b[0;31m                                                          runtime.hostname))\n\u001b[0m\u001b[1;32m   1014\u001b[0m \u001b[0;34m\u001b[0m\u001b[0m\n\u001b[1;32m   1015\u001b[0m         \u001b[0mruntime\u001b[0m\u001b[0;34m.\u001b[0m\u001b[0mcommand_path\u001b[0m \u001b[0;34m=\u001b[0m \u001b[0mcmd_path\u001b[0m\u001b[0;34m\u001b[0m\u001b[0m\n",
      "\u001b[0;31mOSError\u001b[0m: No command \"antsRegistration\" found on host sara. Please check that the corresponding package is installed."
     ]
    }
   ],
   "source": [
    "reg.run()"
   ]
  },
  {
   "cell_type": "code",
   "execution_count": 24,
   "metadata": {
    "collapsed": true
   },
   "outputs": [],
   "source": [
    "import SimpleITK as sitk\n",
    "import matplotlib.pyplot as plt\n",
    "\n",
    "from ipywidgets import interact, interactive\n",
    "from ipywidgets import widgets\n",
    "\n",
    "def myshow(img, title=[], margin=0.05, dpi=80 ):\n",
    "    nda = sitk.GetArrayViewFromImage(img)\n",
    "\n",
    "    spacing = img.GetSpacing()\n",
    "    slicer = False\n",
    "\n",
    "    if nda.ndim == 3:\n",
    "        # fastest dim, either component or x\n",
    "        c = nda.shape[-1]\n",
    "\n",
    "        # the the number of components is 3 or 4 consider it an RGB image\n",
    "        if not c in (3,4):\n",
    "            slicer = True\n",
    "\n",
    "    elif nda.ndim == 4:\n",
    "        c = nda.shape[-1]\n",
    "\n",
    "        if not c in (3,4):\n",
    "            raise Runtime(\"Unable to show 3D-vector Image\")\n",
    "\n",
    "        # take a z-slice\n",
    "        slicer = True\n",
    "    \n",
    "\n",
    "    if (slicer):\n",
    "        ysize = nda.shape[1]\n",
    "        xsize = nda.shape[2]\n",
    "    else:\n",
    "        ysize = nda.shape[0]\n",
    "        xsize = nda.shape[1]\n",
    "\n",
    "\n",
    "    # Make a figure big enough to accomodate an axis of xpixels by ypixels\n",
    "    # as well as the ticklabels, etc...\n",
    "    figsize = (1 + margin) * ysize / dpi, (1 + margin) * xsize / dpi\n",
    "    def callback(z=None):        \n",
    "\n",
    "        extent = (0, xsize*spacing[1], ysize*spacing[0], 0)\n",
    "\n",
    "        fig = plt.figure(figsize=figsize, dpi=dpi)\n",
    "\n",
    "        # Make the axis the right size...\n",
    "        ax = fig.add_axes([margin, margin, 1 - 2*margin, 1 - 2*margin])\n",
    "\n",
    "        plt.set_cmap(\"gray\")\n",
    "\n",
    "        if z is None:\n",
    "            ax.imshow(nda,extent=extent,interpolation=None)\n",
    "        else:\n",
    "            ax.imshow(nda[z,...],extent=extent,interpolation=None)\n",
    "            if title:\n",
    "                plt.title(title[z])\n",
    "            \n",
    "        plt.show()\n",
    "\n",
    "    if slicer:\n",
    "        if title:\n",
    "            interact(callback, z=(0,nda.shape[0]-1))\n",
    "        else:\n",
    "            interact(callback, z=(0,nda.shape[0]-1))\n",
    "    else:\n",
    "        callback()\n",
    "\n",
    "def myshow3d(img, xslices=[], yslices=[], zslices=[], title=[], margin=0.05, dpi=80):\n",
    "    size = img.GetSize()\n",
    "    img_xslices = [img[s,:,:] for s in xslices]\n",
    "    img_yslices = [img[:,s,:] for s in yslices]\n",
    "    img_zslices = [img[:,:,s] for s in zslices]\n",
    "\n",
    "    maxlen = max(len(img_xslices), len(img_yslices), len(img_zslices))\n",
    "\n",
    "\n",
    "    img_null = sitk.Image([0,0], img.GetPixelID(), img.GetNumberOfComponentsPerPixel())\n",
    "\n",
    "    img_slices = []\n",
    "    d = 0\n",
    "\n",
    "    if len(img_xslices):\n",
    "        img_slices += img_xslices + [img_null]*(maxlen-len(img_xslices))\n",
    "        d += 1\n",
    "\n",
    "    if len(img_yslices):\n",
    "        img_slices += img_yslices + [img_null]*(maxlen-len(img_yslices))\n",
    "        d += 1\n",
    "\n",
    "    if len(img_zslices):\n",
    "        img_slices += img_zslices + [img_null]*(maxlen-len(img_zslices))\n",
    "        d +=1\n",
    "\n",
    "    if maxlen != 0:\n",
    "        if img.GetNumberOfComponentsPerPixel() == 1:\n",
    "            img = sitk.Tile(img_slices, [maxlen,d])\n",
    "        #TODO check in code to get Tile Filter working with VectorImages\n",
    "        else:\n",
    "            img_comps = []\n",
    "            for i in range(0,img.GetNumberOfComponentsPerPixel()):\n",
    "                img_slices_c = [sitk.VectorIndexSelectionCast(s, i) for s in img_slices]\n",
    "                img_comps.append(sitk.Tile(img_slices_c, [maxlen,d]))\n",
    "            img = sitk.Compose(img_comps)\n",
    "    \n",
    "\n",
    "\n",
    "    myshow(img, title, margin, dpi)\n"
   ]
  },
  {
   "cell_type": "code",
   "execution_count": 25,
   "metadata": {
    "collapsed": true
   },
   "outputs": [],
   "source": [
    "import matplotlib.pyplot as plt\n",
    "import SimpleITK as sitk\n",
    "import cv2\n",
    "import numpy as np\n",
    "from glob import glob\n",
    "import skimage.io as io\n",
    "\n",
    "def read_image_into_ndArray(imagefile, PlugIn):\n",
    "    imageArray = io.imread(imagefile, plugin=PlugIn)\n",
    "    print(\"The dimension of the image is \", imageArray.shape)\n",
    "    return imageArray\n",
    "\n",
    "def sitk_tile_vec(lstImgs):\n",
    "    lstImgToCompose = []\n",
    "    for idxComp in range(lstImgs[0].GetNumberOfComponentsPerPixel()):\n",
    "        lstImgToTile = []\n",
    "        for img in lstImgs:\n",
    "            lstImgToTile.append(sitk.VectorIndexSelectionCast(img, idxComp))\n",
    "        lstImgToCompose.append(sitk.Tile(lstImgToTile, (len(lstImgs), 1, 0)))\n",
    "    sitk_show(sitk.Compose(lstImgToCompose))\n",
    "\n",
    "def sitk_show(img, title=None, margin=0.0, dpi=40):\n",
    "    nda = sitk.GetArrayFromImage(img)\n",
    "    #spacing = img.GetSpacing()\n",
    "    figsize = (1 + margin) * nda.shape[0] / dpi, (1 + margin) * nda.shape[1] / dpi\n",
    "    #extent = (0, nda.shape[1]*spacing[1], nda.shape[0]*spacing[0], 0)\n",
    "    extent = (0, nda.shape[1], nda.shape[0], 0)\n",
    "    fig = plt.figure(figsize=figsize, dpi=dpi)\n",
    "    ax = fig.add_axes([margin, margin, 1 - 2*margin, 1 - 2*margin])\n",
    "\n",
    "    plt.set_cmap(\"gray\")\n",
    "    ax.imshow(nda,extent=extent,interpolation=None)\n",
    "    \n",
    "    if title:\n",
    "        plt.title(title)\n",
    "    \n",
    "    plt.show()\n",
    "    \n",
    "def figure_images(imageList, z):    \n",
    "    i = 1\n",
    "    for a_file in imageList:\n",
    "        sliced = sitk.GetArrayViewFromImage(a_file[1])[z,:,:]        \n",
    "        #plt.subplot(round(len(imageList)/3)+1,3, i)\n",
    "        plt.figure()\n",
    "        plt.title(a_file[0])\n",
    "        plt.imshow(sliced, cmap=plt.cm.Greys_r)\n",
    "        plt.axis('off')\n",
    "        i = i+1"
   ]
  },
  {
   "cell_type": "markdown",
   "metadata": {},
   "source": [
    "## Visualization"
   ]
  },
  {
   "cell_type": "code",
   "execution_count": 26,
   "metadata": {},
   "outputs": [],
   "source": [
    "from ipywidgets import interact, FloatSlider"
   ]
  },
  {
   "cell_type": "code",
   "execution_count": 27,
   "metadata": {},
   "outputs": [
    {
     "data": {
      "image/png": "[encoded data removed]",
      "text/plain": [
       "<matplotlib.figure.Figure at 0x7f637532d1d0>"
      ]
     },
     "metadata": {},
     "output_type": "display_data"
    }
   ],
   "source": [
    "sitk_tile_vec([sitk.LabelOverlay(imgT1SmoothInt[:,:,idxSlice], imgGrayMatterT1[:,:,idxSlice]),\n",
    "               sitk.LabelOverlay(imgT2SmoothInt[:,:,idxSlice], imgGrayMatterT2[:,:,idxSlice])])"
   ]
  },
  {
   "cell_type": "code",
   "execution_count": 28,
   "metadata": {},
   "outputs": [
    {
     "ename": "NameError",
     "evalue": "name 'imgComp' is not defined",
     "output_type": "error",
     "traceback": [
      "\u001b[0;31m---------------------------------------------------------------------------\u001b[0m",
      "\u001b[0;31mNameError\u001b[0m                                 Traceback (most recent call last)",
      "\u001b[0;32m<ipython-input-28-b9feb3767600>\u001b[0m in \u001b[0;36m<module>\u001b[0;34m()\u001b[0m\n\u001b[0;32m----> 1\u001b[0;31m \u001b[0mmyshow3d\u001b[0m\u001b[0;34m(\u001b[0m\u001b[0mimgComp\u001b[0m\u001b[0;34m)\u001b[0m\u001b[0;34m\u001b[0m\u001b[0m\n\u001b[0m\u001b[1;32m      2\u001b[0m \u001b[0mmyshow3d\u001b[0m\u001b[0;34m(\u001b[0m\u001b[0mimgGrayMatterComp\u001b[0m\u001b[0;34m)\u001b[0m\u001b[0;34m\u001b[0m\u001b[0m\n",
      "\u001b[0;31mNameError\u001b[0m: name 'imgComp' is not defined"
     ]
    }
   ],
   "source": [
    "myshow3d(imgComp)\n",
    "myshow3d(imgGrayMatterComp)"
   ]
  },
  {
   "cell_type": "code",
   "execution_count": 29,
   "metadata": {},
   "outputs": [
    {
     "ename": "NameError",
     "evalue": "name 'imgGrayMatterComp' is not defined",
     "output_type": "error",
     "traceback": [
      "\u001b[0;31m---------------------------------------------------------------------------\u001b[0m",
      "\u001b[0;31mNameError\u001b[0m                                 Traceback (most recent call last)",
      "\u001b[0;32m<ipython-input-29-7393a53794fa>\u001b[0m in \u001b[0;36m<module>\u001b[0;34m()\u001b[0m\n\u001b[0;32m----> 1\u001b[0;31m \u001b[0msitk_show\u001b[0m\u001b[0;34m(\u001b[0m\u001b[0msitk\u001b[0m\u001b[0;34m.\u001b[0m\u001b[0mLabelOverlay\u001b[0m\u001b[0;34m(\u001b[0m\u001b[0mimgT2SmoothInt\u001b[0m\u001b[0;34m[\u001b[0m\u001b[0;34m:\u001b[0m\u001b[0;34m,\u001b[0m\u001b[0;34m:\u001b[0m\u001b[0;34m,\u001b[0m\u001b[0midxSlice\u001b[0m\u001b[0;34m]\u001b[0m\u001b[0;34m,\u001b[0m \u001b[0mimgGrayMatterComp\u001b[0m\u001b[0;34m[\u001b[0m\u001b[0;34m:\u001b[0m\u001b[0;34m,\u001b[0m\u001b[0;34m:\u001b[0m\u001b[0;34m,\u001b[0m\u001b[0midxSlice\u001b[0m\u001b[0;34m]\u001b[0m\u001b[0;34m)\u001b[0m\u001b[0;34m)\u001b[0m\u001b[0;34m\u001b[0m\u001b[0m\n\u001b[0m",
      "\u001b[0;31mNameError\u001b[0m: name 'imgGrayMatterComp' is not defined"
     ]
    }
   ],
   "source": [
    "sitk_show(sitk.LabelOverlay(imgT2SmoothInt[:,:,idxSlice], imgGrayMatterComp[:,:,idxSlice]))"
   ]
  },
  {
   "cell_type": "markdown",
   "metadata": {},
   "source": [
    "## Save 3D image Files"
   ]
  },
  {
   "cell_type": "code",
   "execution_count": 30,
   "metadata": {},
   "outputs": [
    {
     "ename": "NameError",
     "evalue": "name 'imgGrayMatterComp' is not defined",
     "output_type": "error",
     "traceback": [
      "\u001b[0;31m---------------------------------------------------------------------------\u001b[0m",
      "\u001b[0;31mNameError\u001b[0m                                 Traceback (most recent call last)",
      "\u001b[0;32m<ipython-input-30-a136cd77df94>\u001b[0m in \u001b[0;36m<module>\u001b[0;34m()\u001b[0m\n\u001b[0;32m----> 1\u001b[0;31m \u001b[0msitk\u001b[0m\u001b[0;34m.\u001b[0m\u001b[0mWriteImage\u001b[0m\u001b[0;34m(\u001b[0m\u001b[0mimgGrayMatterComp\u001b[0m\u001b[0;34m,\u001b[0m \u001b[0;34m\"./GrayMatter.mha\"\u001b[0m\u001b[0;34m)\u001b[0m\u001b[0;34m\u001b[0m\u001b[0m\n\u001b[0m",
      "\u001b[0;31mNameError\u001b[0m: name 'imgGrayMatterComp' is not defined"
     ]
    }
   ],
   "source": [
    "sitk.WriteImage(imgGrayMatterComp, \"./GrayMatter.mha\")"
   ]
  },
  {
   "cell_type": "code",
   "execution_count": 31,
   "metadata": {
    "collapsed": true
   },
   "outputs": [],
   "source": [
    "def get_image_info(imgObject):\n",
    "    imgDict = {}\n",
    "    imgDict[\"Dimension\"] = imgObject.GetDimension()\n",
    "    imgDict[\"Size\"] = imgObject.GetSize()\n",
    "    imgDict[\"Num_Pixels\"] = imgObject.GetNumberOfPixels()\n",
    "    return imgDict"
   ]
  },
  {
   "cell_type": "code",
   "execution_count": 32,
   "metadata": {},
   "outputs": [
    {
     "ename": "NameError",
     "evalue": "name 'imgComp' is not defined",
     "output_type": "error",
     "traceback": [
      "\u001b[0;31m---------------------------------------------------------------------------\u001b[0m",
      "\u001b[0;31mNameError\u001b[0m                                 Traceback (most recent call last)",
      "\u001b[0;32m<ipython-input-32-2c8405e3b6d9>\u001b[0m in \u001b[0;36m<module>\u001b[0;34m()\u001b[0m\n\u001b[0;32m----> 1\u001b[0;31m \u001b[0mhaha\u001b[0m \u001b[0;34m=\u001b[0m \u001b[0mget_image_info\u001b[0m\u001b[0;34m(\u001b[0m\u001b[0mimgComp\u001b[0m\u001b[0;34m)\u001b[0m\u001b[0;34m\u001b[0m\u001b[0m\n\u001b[0m\u001b[1;32m      2\u001b[0m \u001b[0mprint\u001b[0m\u001b[0;34m(\u001b[0m\u001b[0mhaha\u001b[0m\u001b[0;34m)\u001b[0m\u001b[0;34m\u001b[0m\u001b[0m\n",
      "\u001b[0;31mNameError\u001b[0m: name 'imgComp' is not defined"
     ]
    }
   ],
   "source": [
    "haha = get_image_info(imgComp)\n",
    "print(haha)"
   ]
  },
  {
   "cell_type": "code",
   "execution_count": null,
   "metadata": {
    "collapsed": true
   },
   "outputs": [],
   "source": []
  }
 ],
 "metadata": {
  "anaconda-cloud": {},
  "kernelspec": {
   "display_name": "Python 3",
   "language": "python",
   "name": "python3"
  },
  "language_info": {
   "codemirror_mode": {
    "name": "ipython",
    "version": 3
   },
   "file_extension": ".py",
   "mimetype": "text/x-python",
   "name": "python",
   "nbconvert_exporter": "python",
   "pygments_lexer": "ipython3",
   "version": "3.6.3"
  }
 },
 "nbformat": 4,
 "nbformat_minor": 2
}
